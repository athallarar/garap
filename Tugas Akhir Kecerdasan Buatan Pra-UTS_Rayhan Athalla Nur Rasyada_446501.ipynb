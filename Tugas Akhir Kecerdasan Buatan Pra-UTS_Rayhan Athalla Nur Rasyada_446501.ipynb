{
 "cells": [
  {
   "cell_type": "markdown",
   "metadata": {},
   "source": [
    "### Memasukkan dataset untuk initial testing"
   ]
  },
  {
   "cell_type": "code",
   "execution_count": 51,
   "metadata": {},
   "outputs": [],
   "source": [
    "import pandas as pd\n",
    "import numpy as np\n",
    "import operator\n",
    "import math\n",
    "import matplotlib.pyplot as plt\n",
    "%matplotlib inline"
   ]
  },
  {
   "cell_type": "code",
   "execution_count": 52,
   "metadata": {},
   "outputs": [],
   "source": [
    "pertalite_dataset = pd.read_csv(r'D:\\AI\\dataset_pertalite.csv')\n",
    "pertamax_dataset = pd.read_csv(r'D:\\AI\\dataset_pertamax.csv')"
   ]
  },
  {
   "cell_type": "code",
   "execution_count": 53,
   "metadata": {},
   "outputs": [
    {
     "data": {
      "text/html": [
       "<div>\n",
       "<style scoped>\n",
       "    .dataframe tbody tr th:only-of-type {\n",
       "        vertical-align: middle;\n",
       "    }\n",
       "\n",
       "    .dataframe tbody tr th {\n",
       "        vertical-align: top;\n",
       "    }\n",
       "\n",
       "    .dataframe thead th {\n",
       "        text-align: right;\n",
       "    }\n",
       "</style>\n",
       "<table border=\"1\" class=\"dataframe\">\n",
       "  <thead>\n",
       "    <tr style=\"text-align: right;\">\n",
       "      <th></th>\n",
       "      <th>Produk</th>\n",
       "      <th>Jenis</th>\n",
       "      <th>Oktan</th>\n",
       "      <th>HargaRp</th>\n",
       "      <th>Tahun</th>\n",
       "    </tr>\n",
       "  </thead>\n",
       "  <tbody>\n",
       "    <tr>\n",
       "      <th>0</th>\n",
       "      <td>Pertalite</td>\n",
       "      <td>Bensin</td>\n",
       "      <td>90</td>\n",
       "      <td>8400</td>\n",
       "      <td>2015</td>\n",
       "    </tr>\n",
       "    <tr>\n",
       "      <th>1</th>\n",
       "      <td>Pertalite</td>\n",
       "      <td>Bensin</td>\n",
       "      <td>90</td>\n",
       "      <td>7900</td>\n",
       "      <td>2016</td>\n",
       "    </tr>\n",
       "    <tr>\n",
       "      <th>2</th>\n",
       "      <td>Pertalite</td>\n",
       "      <td>Bensin</td>\n",
       "      <td>90</td>\n",
       "      <td>7100</td>\n",
       "      <td>2016</td>\n",
       "    </tr>\n",
       "    <tr>\n",
       "      <th>3</th>\n",
       "      <td>Pertalite</td>\n",
       "      <td>Bensin</td>\n",
       "      <td>90</td>\n",
       "      <td>7300</td>\n",
       "      <td>2016</td>\n",
       "    </tr>\n",
       "    <tr>\n",
       "      <th>4</th>\n",
       "      <td>Pertalite</td>\n",
       "      <td>Bensin</td>\n",
       "      <td>90</td>\n",
       "      <td>6900</td>\n",
       "      <td>2016</td>\n",
       "    </tr>\n",
       "  </tbody>\n",
       "</table>\n",
       "</div>"
      ],
      "text/plain": [
       "      Produk   Jenis  Oktan  HargaRp  Tahun\n",
       "0  Pertalite  Bensin     90     8400   2015\n",
       "1  Pertalite  Bensin     90     7900   2016\n",
       "2  Pertalite  Bensin     90     7100   2016\n",
       "3  Pertalite  Bensin     90     7300   2016\n",
       "4  Pertalite  Bensin     90     6900   2016"
      ]
     },
     "execution_count": 53,
     "metadata": {},
     "output_type": "execute_result"
    }
   ],
   "source": [
    "pertalite_dataset.head()"
   ]
  },
  {
   "cell_type": "code",
   "execution_count": 54,
   "metadata": {},
   "outputs": [
    {
     "data": {
      "text/plain": [
       "(17, 5)"
      ]
     },
     "execution_count": 54,
     "metadata": {},
     "output_type": "execute_result"
    }
   ],
   "source": [
    "pertalite_dataset.shape"
   ]
  },
  {
   "cell_type": "code",
   "execution_count": 55,
   "metadata": {},
   "outputs": [
    {
     "data": {
      "text/html": [
       "<div>\n",
       "<style scoped>\n",
       "    .dataframe tbody tr th:only-of-type {\n",
       "        vertical-align: middle;\n",
       "    }\n",
       "\n",
       "    .dataframe tbody tr th {\n",
       "        vertical-align: top;\n",
       "    }\n",
       "\n",
       "    .dataframe thead th {\n",
       "        text-align: right;\n",
       "    }\n",
       "</style>\n",
       "<table border=\"1\" class=\"dataframe\">\n",
       "  <thead>\n",
       "    <tr style=\"text-align: right;\">\n",
       "      <th></th>\n",
       "      <th>Produk</th>\n",
       "      <th>Jenis</th>\n",
       "      <th>Oktan</th>\n",
       "      <th>HargaRp</th>\n",
       "      <th>Tahun</th>\n",
       "    </tr>\n",
       "  </thead>\n",
       "  <tbody>\n",
       "    <tr>\n",
       "      <th>0</th>\n",
       "      <td>Pertamax</td>\n",
       "      <td>Bensin</td>\n",
       "      <td>92</td>\n",
       "      <td>9550</td>\n",
       "      <td>2015</td>\n",
       "    </tr>\n",
       "    <tr>\n",
       "      <th>1</th>\n",
       "      <td>Pertamax</td>\n",
       "      <td>Bensin</td>\n",
       "      <td>92</td>\n",
       "      <td>9100</td>\n",
       "      <td>2015</td>\n",
       "    </tr>\n",
       "    <tr>\n",
       "      <th>2</th>\n",
       "      <td>Pertamax</td>\n",
       "      <td>Bensin</td>\n",
       "      <td>92</td>\n",
       "      <td>8950</td>\n",
       "      <td>2015</td>\n",
       "    </tr>\n",
       "    <tr>\n",
       "      <th>3</th>\n",
       "      <td>Pertamax</td>\n",
       "      <td>Bensin</td>\n",
       "      <td>92</td>\n",
       "      <td>8850</td>\n",
       "      <td>2015</td>\n",
       "    </tr>\n",
       "    <tr>\n",
       "      <th>4</th>\n",
       "      <td>Pertamax</td>\n",
       "      <td>Bensin</td>\n",
       "      <td>92</td>\n",
       "      <td>8450</td>\n",
       "      <td>2016</td>\n",
       "    </tr>\n",
       "  </tbody>\n",
       "</table>\n",
       "</div>"
      ],
      "text/plain": [
       "     Produk   Jenis  Oktan  HargaRp  Tahun\n",
       "0  Pertamax  Bensin     92     9550   2015\n",
       "1  Pertamax  Bensin     92     9100   2015\n",
       "2  Pertamax  Bensin     92     8950   2015\n",
       "3  Pertamax  Bensin     92     8850   2015\n",
       "4  Pertamax  Bensin     92     8450   2016"
      ]
     },
     "execution_count": 55,
     "metadata": {},
     "output_type": "execute_result"
    }
   ],
   "source": [
    "pertamax_dataset.head()"
   ]
  },
  {
   "cell_type": "code",
   "execution_count": 56,
   "metadata": {},
   "outputs": [
    {
     "data": {
      "text/plain": [
       "(27, 5)"
      ]
     },
     "execution_count": 56,
     "metadata": {},
     "output_type": "execute_result"
    }
   ],
   "source": [
    "pertamax_dataset.shape"
   ]
  },
  {
   "cell_type": "markdown",
   "metadata": {},
   "source": [
    "### Melatih kecerdasan buatan berdasarkan initial dataset menggunakan metode linear regression"
   ]
  },
  {
   "cell_type": "code",
   "execution_count": 57,
   "metadata": {},
   "outputs": [],
   "source": [
    "x1 = pertalite_dataset['Tahun'].values\n",
    "y1 = pertalite_dataset['HargaRp'].values\n",
    "x2 = pertamax_dataset['Tahun'].values\n",
    "y2 = pertamax_dataset['HargaRp'].values"
   ]
  },
  {
   "cell_type": "code",
   "execution_count": 58,
   "metadata": {},
   "outputs": [],
   "source": [
    "mean_x1 = np.mean(x1)\n",
    "mean_y1 = np.mean(y1)\n",
    "mean_x2 = np.mean(x2)\n",
    "mean_y2 = np.mean(y2)"
   ]
  },
  {
   "cell_type": "code",
   "execution_count": 59,
   "metadata": {},
   "outputs": [],
   "source": [
    "m = len(x1)\n",
    "x1_sum = 0\n",
    "x12_sum = 0\n",
    "y1_sum = 0\n",
    "y12_sum = 0\n",
    "x1y1_sum = 0\n",
    "\n",
    "n = len(x2)\n",
    "x2_sum = 0\n",
    "x22_sum = 0\n",
    "y2_sum = 0\n",
    "y22_sum = 0\n",
    "x2y2_sum = 0"
   ]
  },
  {
   "cell_type": "code",
   "execution_count": 60,
   "metadata": {},
   "outputs": [
    {
     "name": "stdout",
     "output_type": "stream",
     "text": [
      "a0 = -364576.582278481 \n",
      "a1 = 184.49367088607596\n",
      "X1 = [2015.         2015.14285714 2015.28571429 2015.42857143 2015.57142857\n",
      " 2015.71428571 2015.85714286 2016.         2016.14285714 2016.28571429\n",
      " 2016.42857143 2016.57142857 2016.71428571 2016.85714286 2017.\n",
      " 2017.14285714 2017.28571429 2017.42857143 2017.57142857 2017.71428571\n",
      " 2017.85714286 2018.         2018.14285714 2018.28571429 2018.42857143\n",
      " 2018.57142857 2018.71428571 2018.85714286 2019.         2019.14285714\n",
      " 2019.28571429 2019.42857143 2019.57142857 2019.71428571 2019.85714286\n",
      " 2020.         2020.14285714 2020.28571429 2020.42857143 2020.57142857\n",
      " 2020.71428571 2020.85714286 2021.         2021.14285714 2021.28571429\n",
      " 2021.42857143 2021.57142857 2021.71428571 2021.85714286 2022.        ] \n",
      "Y1 = [7178.16455696 7204.52079566 7230.87703436 7257.23327306 7283.58951175\n",
      " 7309.94575045 7336.30198915 7362.65822785 7389.01446655 7415.37070524\n",
      " 7441.72694394 7468.08318264 7494.43942134 7520.79566004 7547.15189873\n",
      " 7573.50813743 7599.86437613 7626.22061483 7652.57685353 7678.93309222\n",
      " 7705.28933092 7731.64556962 7758.00180832 7784.35804702 7810.71428571\n",
      " 7837.07052441 7863.42676311 7889.78300181 7916.13924051 7942.4954792\n",
      " 7968.8517179  7995.2079566  8021.5641953  8047.920434   8074.27667269\n",
      " 8100.63291139 8126.98915009 8153.34538879 8179.70162749 8206.05786618\n",
      " 8232.41410488 8258.77034358 8285.12658228 8311.48282098 8337.83905967\n",
      " 8364.19529837 8390.55153707 8416.90777577 8443.26401447 8469.62025316]\n"
     ]
    }
   ],
   "source": [
    "for i in range(m):\n",
    "    x1_sum += x1[i]\n",
    "    x12_sum += x1[i]**2\n",
    "    y1_sum += y1[i]\n",
    "    y12_sum += y1[i]**2\n",
    "    x1y1_sum += x1[i]*y1[i]\n",
    "a0 = (y1_sum*x12_sum - x1_sum*x1y1_sum)/(m*x12_sum - x1_sum**2)\n",
    "a1 = (m*x1y1_sum - x1_sum*y1_sum)/(m*x12_sum - x1_sum**2)\n",
    "print (f'a0 = {a0} \\na1 = {a1}')\n",
    "\n",
    "X1 = np.linspace (np.min(x1), np.max(x1))\n",
    "Y1 = a0 + a1*X1\n",
    "print(f'X1 = {X1} \\nY1 = {Y1}')"
   ]
  },
  {
   "cell_type": "code",
   "execution_count": 61,
   "metadata": {},
   "outputs": [
    {
     "name": "stdout",
     "output_type": "stream",
     "text": [
      "b0 = -1023828.0523255814 \n",
      "b1 = 511.9670542635659\n",
      "X2 = [2015.         2015.14285714 2015.28571429 2015.42857143 2015.57142857\n",
      " 2015.71428571 2015.85714286 2016.         2016.14285714 2016.28571429\n",
      " 2016.42857143 2016.57142857 2016.71428571 2016.85714286 2017.\n",
      " 2017.14285714 2017.28571429 2017.42857143 2017.57142857 2017.71428571\n",
      " 2017.85714286 2018.         2018.14285714 2018.28571429 2018.42857143\n",
      " 2018.57142857 2018.71428571 2018.85714286 2019.         2019.14285714\n",
      " 2019.28571429 2019.42857143 2019.57142857 2019.71428571 2019.85714286\n",
      " 2020.         2020.14285714 2020.28571429 2020.42857143 2020.57142857\n",
      " 2020.71428571 2020.85714286 2021.         2021.14285714 2021.28571429\n",
      " 2021.42857143 2021.57142857 2021.71428571 2021.85714286 2022.        ] \n",
      "Y2 = [ 7785.5620155   7858.70016611  7931.83831672  8004.97646733\n",
      "  8078.11461794  8151.25276855  8224.39091916  8297.52906977\n",
      "  8370.66722038  8443.80537099  8516.94352159  8590.0816722\n",
      "  8663.21982281  8736.35797342  8809.49612403  8882.63427464\n",
      "  8955.77242525  9028.91057586  9102.04872647  9175.18687708\n",
      "  9248.32502769  9321.46317829  9394.6013289   9467.73947951\n",
      "  9540.87763012  9614.01578073  9687.15393134  9760.29208195\n",
      "  9833.43023256  9906.56838317  9979.70653378 10052.84468439\n",
      " 10125.98283499 10199.1209856  10272.25913621 10345.39728682\n",
      " 10418.53543743 10491.67358804 10564.81173865 10637.94988926\n",
      " 10711.08803987 10784.22619048 10857.36434109 10930.50249169\n",
      " 11003.6406423  11076.77879291 11149.91694352 11223.05509413\n",
      " 11296.19324474 11369.33139535]\n"
     ]
    }
   ],
   "source": [
    "for j in range(n):\n",
    "    x2_sum += x2[j]\n",
    "    x22_sum += x2[j]**2\n",
    "    y2_sum += y2[j]\n",
    "    y22_sum += y2[j]**2\n",
    "    x2y2_sum += x2[j]*y2[j]\n",
    "b0 = (y2_sum*x22_sum - x2_sum*x2y2_sum)/(n*x22_sum - x2_sum**2)\n",
    "b1 = (n*x2y2_sum - x2_sum*y2_sum)/(n*x22_sum - x2_sum**2)\n",
    "print (f'b0 = {b0} \\nb1 = {b1}')\n",
    "\n",
    "X2 = np.linspace (np.min(x2), np.max(x2))\n",
    "Y2 = b0 + b1*X2\n",
    "print(f'X2 = {X2} \\nY2 = {Y2}')"
   ]
  },
  {
   "cell_type": "code",
   "execution_count": 107,
   "metadata": {},
   "outputs": [
    {
     "data": {
      "image/png": "[encoded data removed]",
      "text/plain": [
       "<Figure size 432x288 with 1 Axes>"
      ]
     },
     "metadata": {
      "needs_background": "light"
     },
     "output_type": "display_data"
    }
   ],
   "source": [
    "plt.plot(X1, Y1, c = '#58b970', label = 'Garis regresi Pertalite')\n",
    "plt.scatter(x1, y1, c = '#ef5423', s = 20, label = 'Sampel harga Pertalite')\n",
    "plt.plot(X2, Y2, c = '#1066dc', label = 'Garis regresi Pertamax')\n",
    "plt.scatter(x2, y2, c = '#8c00ff',  s= 20, label = 'Sampel  harga Pertamax')\n",
    "plt.xlabel('Tahun')\n",
    "plt.ylabel('Harga (Rp)')\n",
    "plt.legend()\n",
    "plt.show()"
   ]
  },
  {
   "cell_type": "markdown",
   "metadata": {},
   "source": [
    "### Memprediksi harga berdasarkan linear regresi yang dihasilkan dataset"
   ]
  },
  {
   "cell_type": "code",
   "execution_count": 87,
   "metadata": {},
   "outputs": [
    {
     "name": "stdout",
     "output_type": "stream",
     "text": [
      "[2015, 2016, 2017, 2018, 2019, 2020, 2021, 2022, 2023, 2024, 2025, 2026, 2027, 2028, 2029, 2030, 2031, 2032, 2033, 2034, 2035]\n"
     ]
    }
   ],
   "source": [
    "z = list(range(2015, 2036))\n",
    "print(z)"
   ]
  },
  {
   "cell_type": "code",
   "execution_count": 88,
   "metadata": {},
   "outputs": [
    {
     "name": "stdout",
     "output_type": "stream",
     "text": [
      "XZ = [2015.         2015.40816327 2015.81632653 2016.2244898  2016.63265306\n",
      " 2017.04081633 2017.44897959 2017.85714286 2018.26530612 2018.67346939\n",
      " 2019.08163265 2019.48979592 2019.89795918 2020.30612245 2020.71428571\n",
      " 2021.12244898 2021.53061224 2021.93877551 2022.34693878 2022.75510204\n",
      " 2023.16326531 2023.57142857 2023.97959184 2024.3877551  2024.79591837\n",
      " 2025.20408163 2025.6122449  2026.02040816 2026.42857143 2026.83673469\n",
      " 2027.24489796 2027.65306122 2028.06122449 2028.46938776 2028.87755102\n",
      " 2029.28571429 2029.69387755 2030.10204082 2030.51020408 2030.91836735\n",
      " 2031.32653061 2031.73469388 2032.14285714 2032.55102041 2032.95918367\n",
      " 2033.36734694 2033.7755102  2034.18367347 2034.59183673 2035.        ]\n",
      "YZ1 = [ 7178.16455696  7253.4680961   7328.77163524  7404.07517437\n",
      "  7479.37871351  7554.68225265  7629.98579179  7705.28933092\n",
      "  7780.59287006  7855.8964092   7931.19994833  8006.50348747\n",
      "  8081.80702661  8157.11056575  8232.41410488  8307.71764402\n",
      "  8383.02118316  8458.32472229  8533.62826143  8608.93180057\n",
      "  8684.23533971  8759.53887884  8834.84241798  8910.14595712\n",
      "  8985.44949625  9060.75303539  9136.05657453  9211.36011367\n",
      "  9286.6636528   9361.96719194  9437.27073108  9512.57427021\n",
      "  9587.87780935  9663.18134849  9738.48488763  9813.78842676\n",
      "  9889.0919659   9964.39550504 10039.69904417 10115.00258331\n",
      " 10190.30612245 10265.60966159 10340.91320072 10416.21673986\n",
      " 10491.520279   10566.82381813 10642.12735727 10717.43089641\n",
      " 10792.73443555 10868.03797468] \n",
      "YZ2 = [ 7785.5620155   7994.5281601   8203.4943047   8412.4604493\n",
      "  8621.42659389  8830.39273849  9039.35888309  9248.32502769\n",
      "  9457.29117228  9666.25731688  9875.22346148 10084.18960607\n",
      " 10293.15575067 10502.12189527 10711.08803987 10920.05418446\n",
      " 11129.02032906 11337.98647366 11546.95261826 11755.91876285\n",
      " 11964.88490745 12173.85105205 12382.81719665 12591.78334124\n",
      " 12800.74948584 13009.71563044 13218.68177504 13427.64791963\n",
      " 13636.61406423 13845.58020883 14054.54635343 14263.51249802\n",
      " 14472.47864262 14681.44478722 14890.41093181 15099.37707641\n",
      " 15308.34322101 15517.30936561 15726.2755102  15935.2416548\n",
      " 16144.2077994  16353.173944   16562.14008859 16771.10623319\n",
      " 16980.07237779 17189.03852239 17398.00466698 17606.97081158\n",
      " 17815.93695618 18024.90310078]\n"
     ]
    }
   ],
   "source": [
    "XZ = np.linspace (np.min(z), np.max(z))\n",
    "YZ1 = a0 + a1*XZ\n",
    "YZ2 = b0 + b1*XZ\n",
    "\n",
    "print(f'XZ = {XZ}')\n",
    "print(f'YZ1 = {YZ1} \\nYZ2 = {YZ2}')"
   ]
  },
  {
   "cell_type": "code",
   "execution_count": 108,
   "metadata": {},
   "outputs": [
    {
     "data": {
      "image/png": "[encoded data removed]",
      "text/plain": [
       "<Figure size 432x288 with 1 Axes>"
      ]
     },
     "metadata": {
      "needs_background": "light"
     },
     "output_type": "display_data"
    }
   ],
   "source": [
    "plt.scatter(x1, y1, c = '#ef5423', s = 20, label = 'Harga Pertalite sebenarnya')\n",
    "plt.scatter(x2, y2, c = '#8c00ff', s = 20, label = 'Harga Pertamax sebenarnya')\n",
    "plt.plot(XZ, YZ1, c = '#58b970', label = 'Perkiraan kenaikan harga Pertalite')\n",
    "plt.plot(XZ, YZ2, c = '#1066dc', label = 'Perkiraan kenaikan harga Pertamax')\n",
    "plt.xlabel('Tahun')\n",
    "plt.ylabel('Harga (Rp)')\n",
    "plt.legend(prop={'size': 9})\n",
    "plt.show()"
   ]
  },
  {
   "cell_type": "code",
   "execution_count": 109,
   "metadata": {},
   "outputs": [
    {
     "name": "stdout",
     "output_type": "stream",
     "text": [
      "Perkiraan harga Pertalite di tahun 2035 berkisar di rentang Rp 10868.037974683568 per liter, \n",
      "sedangkan harga Pertamax di tahun 2035 berkisar di rentang Rp 18024.903100775206 per liter.\n"
     ]
    }
   ],
   "source": [
    "print(f'Perkiraan harga Pertalite di tahun 2035 berkisar di rentang Rp {YZ1[len(YZ1)-1]} per liter, \\nsedangkan harga Pertamax di tahun 2035 berkisar di rentang Rp {YZ2[len(YZ2)-1]} per liter.')"
   ]
  }
 ],
 "metadata": {
  "kernelspec": {
   "display_name": "Python 3",
   "language": "python",
   "name": "python3"
  },
  "language_info": {
   "codemirror_mode": {
    "name": "ipython",
    "version": 3
   },
   "file_extension": ".py",
   "mimetype": "text/x-python",
   "name": "python",
   "nbconvert_exporter": "python",
   "pygments_lexer": "ipython3",
   "version": "3.7.0"
  }
 },
 "nbformat": 4,
 "nbformat_minor": 2
}
